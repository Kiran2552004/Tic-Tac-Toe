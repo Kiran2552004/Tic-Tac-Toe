{
 "cells": [
  {
   "cell_type": "code",
   "execution_count": 2,
   "id": "0d8d3323",
   "metadata": {},
   "outputs": [],
   "source": [
    "from IPython.display import clear_output  "
   ]
  },
  {
   "cell_type": "code",
   "execution_count": 25,
   "id": "7e367ab9",
   "metadata": {},
   "outputs": [],
   "source": [
    "def display_board(board):\n",
    "    print('   |   |')\n",
    "    print(' ' + board[0] + ' | ' + board[1] + ' | ' + board[2])\n",
    "    print('   |   |')\n",
    "    print('-----------')\n",
    "    print('   |   |')\n",
    "    print(' ' + board[3] + ' | ' + board[4] + ' | ' + board[5])\n",
    "    print('   |   |')\n",
    "    print('-----------')\n",
    "    print('   |   |')\n",
    "    print(' ' + board[6] + ' | ' + board[7] + ' | ' + board[8])\n",
    "    print('   |   |')"
   ]
  },
  {
   "cell_type": "code",
   "execution_count": 4,
   "id": "4fbbe0b1",
   "metadata": {},
   "outputs": [],
   "source": [
    "def player_input():\n",
    "    player1=''\n",
    "    player2=''\n",
    "    while player1 not in ['X','O']:\n",
    "        \n",
    "        player1 = input('Player 1: You want to be X or O?')\n",
    "    if player1=='X':\n",
    "        print('Player 1 will go first')\n",
    "        player2='O'\n",
    "    else:\n",
    "        print('Player 2 will go first')\n",
    "        player2='X'\n",
    "    return player1,player2\n",
    "    "
   ]
  },
  {
   "cell_type": "code",
   "execution_count": 5,
   "id": "6963c645",
   "metadata": {},
   "outputs": [],
   "source": [
    "def place_marker(board,marker,position):\n",
    "    board[position]=marker\n",
    "    return board"
   ]
  },
  {
   "cell_type": "code",
   "execution_count": 6,
   "id": "8366b989",
   "metadata": {},
   "outputs": [],
   "source": [
    "def win_check(board,mark):\n",
    "    \n",
    "    if board[0] ==mark and board[1]==mark and board[2]==mark:\n",
    "        return True\n",
    "    \n",
    "    elif board[3] ==mark and board[4]==mark and board[5]==mark:\n",
    "        return True\n",
    "    elif board[6] ==mark and board[7]==mark and board[8]==mark:\n",
    "        return True\n",
    "    elif board[0] ==mark and board[3]==mark and board[6]==mark:\n",
    "        return True\n",
    "    elif board[1] ==mark and board[4]==mark and board[7]==mark:\n",
    "        return True\n",
    "    elif board[2] ==mark and board[5]==mark and board[8]==mark:\n",
    "        return True\n",
    "    elif board[0] ==mark and board[4]==mark and board[8]==mark:\n",
    "        return True\n",
    "    elif board[2] ==mark and board[4]==mark and board[6]==mark:\n",
    "        return True\n",
    "    else:\n",
    "        return False"
   ]
  },
  {
   "cell_type": "code",
   "execution_count": 7,
   "id": "3f51712f",
   "metadata": {},
   "outputs": [],
   "source": [
    "def space_check(board,position_):\n",
    "    if board[position_]=='':\n",
    "        return True\n",
    "    else:\n",
    "        return False"
   ]
  },
  {
   "cell_type": "code",
   "execution_count": 8,
   "id": "48b8b2c4",
   "metadata": {},
   "outputs": [],
   "source": [
    "def full_board_check(board):\n",
    "    for i in range(9):\n",
    "        if board[i]=='':\n",
    "            return False\n",
    "    return True"
   ]
  },
  {
   "cell_type": "code",
   "execution_count": 9,
   "id": "d576397e",
   "metadata": {},
   "outputs": [],
   "source": [
    "def player_choice(board):\n",
    "    \n",
    "    choice = int(input('Enter your choice (1-9): '))\n",
    "    if choice not in range(9):\n",
    "        print('Invalid choice, please enter your choice within 0-9: ')\n",
    "        player_choice(board)\n",
    "    if space_check(board,choice):\n",
    "        return choice\n",
    "    else:\n",
    "        print('The position you choosed is already filled')\n",
    "        player_choice(board)\n",
    "    return choice\n",
    "    "
   ]
  },
  {
   "cell_type": "code",
   "execution_count": 28,
   "id": "6156b23d",
   "metadata": {},
   "outputs": [],
   "source": [
    "def replay():\n",
    "    decision = input('You want to play again Y or N: ')\n",
    "    if decision=='Y':\n",
    "        return True\n",
    "    else:\n",
    "        return False"
   ]
  },
  {
   "cell_type": "code",
   "execution_count": null,
   "id": "de0227e6",
   "metadata": {},
   "outputs": [],
   "source": [
    "print('Welcome to Tic Tac Toe! ')\n",
    "\n",
    "while True:\n",
    "    #Set the game up\n",
    "    board = ['']*9\n",
    "    display_board(board)\n",
    "    \n",
    "    player1,player2=player_input()\n",
    "    print(f'Player 1 mark: {player1}')\n",
    "    print(f'Player 2 mark: {player2}')\n",
    "    \n",
    "    if not full_board_check(board):\n",
    "        #player 1 Turn\n",
    "        for k in range(9):\n",
    "            \n",
    "            if k%2==0:\n",
    "                print('Player 1 turn: ')\n",
    "                player1_choice = player_choice(board)\n",
    "                if space_check(board,player1_choice):\n",
    "                    board[player1_choice]=player1\n",
    "                    if win_check(board,player1):\n",
    "                        display_board(board)\n",
    "                        print('Player 1 Won!!!')\n",
    "                        break\n",
    "                        \n",
    "        \n",
    "        #player 2 Turn\n",
    "            else:\n",
    "                print('Player 2 turn: ')\n",
    "                player2_choice = player_choice(board)\n",
    "                if space_check(board,player2_choice):\n",
    "                    board[player2_choice]=player2\n",
    "                    if win_check(board,player2):\n",
    "                        display_board(board)\n",
    "                        print('Player 2 Won!!')\n",
    "                        break\n",
    "        \n",
    "            \n",
    "            clear_output()\n",
    "            display_board(board)\n",
    "        if (not win_check(board,player1) and not win_check(board,player2)):\n",
    "            print('Tie game..')\n",
    "            \n",
    "    if not replay():\n",
    "            break"
   ]
  }
 ],
 "metadata": {
  "kernelspec": {
   "display_name": "Python 3 (ipykernel)",
   "language": "python",
   "name": "python3"
  },
  "language_info": {
   "codemirror_mode": {
    "name": "ipython",
    "version": 3
   },
   "file_extension": ".py",
   "mimetype": "text/x-python",
   "name": "python",
   "nbconvert_exporter": "python",
   "pygments_lexer": "ipython3",
   "version": "3.11.5"
  }
 },
 "nbformat": 4,
 "nbformat_minor": 5
}
